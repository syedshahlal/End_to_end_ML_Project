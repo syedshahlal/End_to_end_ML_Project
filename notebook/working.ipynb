{
 "cells": [
  {
   "cell_type": "code",
   "execution_count": 29,
   "metadata": {},
   "outputs": [],
   "source": [
    "from collections import namedtuple"
   ]
  },
  {
   "cell_type": "markdown",
   "metadata": {},
   "source": [
    "Download Datasets from\n",
    "1. url\n",
    "2. folders\n",
    "   1. Compressed\n",
    "   2. Extracted \n",
    "   3. Train Dataset folders\n",
    "   4. Test Dataset Folders"
   ]
  },
  {
   "cell_type": "code",
   "execution_count": 30,
   "metadata": {},
   "outputs": [],
   "source": [
    "DataIngestionConfig=namedtuple(\"DataIngestionConfig\",[\"dataset_download_url\",\"tgz_download_dir\",\"raw_data_dir\",\"ingested_train_dir\",\"ingested_test_dir\"])"
   ]
  },
  {
   "cell_type": "code",
   "execution_count": 31,
   "metadata": {},
   "outputs": [],
   "source": [
    "import os, sys"
   ]
  },
  {
   "cell_type": "code",
   "execution_count": 32,
   "metadata": {},
   "outputs": [
    {
     "data": {
      "text/plain": [
       "\"d:\\\\University\\\\UB\\\\Summer'23\\\\Project\\\\0. Main\\\\End_to_end_ML_Project\""
      ]
     },
     "execution_count": 32,
     "metadata": {},
     "output_type": "execute_result"
    }
   ],
   "source": [
    "os.getcwd()"
   ]
  },
  {
   "cell_type": "code",
   "execution_count": 33,
   "metadata": {},
   "outputs": [],
   "source": [
    "os.chdir(\"d:\\\\University\\\\UB\\\\Summer'23\\\\Project\\\\0. Main\\\\End_to_end_ML_Project\")"
   ]
  },
  {
   "cell_type": "code",
   "execution_count": 34,
   "metadata": {},
   "outputs": [
    {
     "data": {
      "text/plain": [
       "\"d:\\\\University\\\\UB\\\\Summer'23\\\\Project\\\\0. Main\\\\End_to_end_ML_Project\""
      ]
     },
     "execution_count": 34,
     "metadata": {},
     "output_type": "execute_result"
    }
   ],
   "source": [
    "os.getcwd()"
   ]
  },
  {
   "cell_type": "code",
   "execution_count": 35,
   "metadata": {},
   "outputs": [],
   "source": [
    "config_file_path=os.path.join(\"config\",\"config.yaml\")"
   ]
  },
  {
   "cell_type": "code",
   "execution_count": 36,
   "metadata": {},
   "outputs": [
    {
     "data": {
      "text/plain": [
       "'config\\\\config.yaml'"
      ]
     },
     "execution_count": 36,
     "metadata": {},
     "output_type": "execute_result"
    }
   ],
   "source": [
    "config_file_path"
   ]
  },
  {
   "cell_type": "code",
   "execution_count": 37,
   "metadata": {},
   "outputs": [
    {
     "data": {
      "text/plain": [
       "True"
      ]
     },
     "execution_count": 37,
     "metadata": {},
     "output_type": "execute_result"
    }
   ],
   "source": [
    "os.path.exists(config_file_path)"
   ]
  },
  {
   "cell_type": "code",
   "execution_count": 38,
   "metadata": {},
   "outputs": [],
   "source": [
    "import yaml\n",
    "config_info=None\n",
    "with open(config_file_path,\"rb\") as yaml_file:\n",
    "    config_info=yaml.safe_load(yaml_file)"
   ]
  },
  {
   "cell_type": "code",
   "execution_count": 39,
   "metadata": {},
   "outputs": [
    {
     "data": {
      "text/plain": [
       "{'dataset_download_url': 'https://raw.githubusercontent.com/ageron/handson-ml/master/datasets/housing/housing.tgz',\n",
       " 'raw_data_dir': 'raw_data',\n",
       " 'tgz_download_dir': 'tgz_data',\n",
       " 'ingested_dir': 'ingested_data',\n",
       " 'ingested_train_dir': 'train',\n",
       " 'ingested_test_dir': 'test'}"
      ]
     },
     "execution_count": 39,
     "metadata": {},
     "output_type": "execute_result"
    }
   ],
   "source": [
    "config_info[\"data_ingestion_config\"]"
   ]
  },
  {
   "cell_type": "code",
   "execution_count": 40,
   "metadata": {},
   "outputs": [],
   "source": [
    "def read_yaml_file(file_path:str)->dict:\n",
    "    \"\"\"\n",
    "    Reads the yaml file and returns the dictionary\n",
    "    file_path: str\n",
    "    \"\"\"\n",
    "    try:\n",
    "        with open(file_path,\"rb\") as yaml_file:\n",
    "            config_info=yaml.safe_load(yaml_file)\n",
    "        return config_info\n",
    "    except Exception as e:\n",
    "        # print(\"Error reading the yaml file\")\n",
    "        raise e"
   ]
  },
  {
   "cell_type": "code",
   "execution_count": 41,
   "metadata": {},
   "outputs": [],
   "source": [
    "import os\n",
    "ROOT_DIR = os.getcwd()\n",
    "\n",
    "target_folder = os.path.join(ROOT_DIR, 'housing')\n",
    "create_folders = ['exception', 'logger', 'pipeline', 'component', 'config', 'entity', 'utils', 'constant']\n",
    "\n",
    "def create_folders_in_dir(TARGET_FOLDER: str, create_folders: list) -> None:\n",
    "    \"\"\"\n",
    "    Create folders in the target folder and add __init__.py if it doesn't exist.\n",
    "    \n",
    "    Args:\n",
    "    target_folder (str): The target folder in which to create subfolders.\n",
    "    create_folders (list): A list of subfolder names to be created.\n",
    "    \"\"\"\n",
    "    for folder in create_folders:\n",
    "        path = os.path.join(target_folder, folder)\n",
    "        if not os.path.exists(path):\n",
    "            os.mkdir(path)\n",
    "        \n",
    "        init_file = os.path.join(path, '__init__.py')\n",
    "        if not os.path.exists(init_file):\n",
    "            with open(init_file, 'w') as f:\n",
    "                pass"
   ]
  },
  {
   "cell_type": "code",
   "execution_count": 42,
   "metadata": {},
   "outputs": [
    {
     "data": {
      "text/plain": [
       "\"d:\\\\University\\\\UB\\\\Summer'23\\\\Project\\\\0. Main\\\\End_to_end_ML_Project\""
      ]
     },
     "execution_count": 42,
     "metadata": {},
     "output_type": "execute_result"
    }
   ],
   "source": [
    "ROOT_DIR"
   ]
  },
  {
   "cell_type": "code",
   "execution_count": 43,
   "metadata": {},
   "outputs": [],
   "source": [
    "from datetime import datetime\n",
    "CURRENT_TIME_STAMP = datetime.now().strftime(\"%m-%d-%Y-%H-%M-%S\")"
   ]
  },
  {
   "cell_type": "code",
   "execution_count": 44,
   "metadata": {},
   "outputs": [
    {
     "data": {
      "text/plain": [
       "'09-23-2023-11-23-00'"
      ]
     },
     "execution_count": 44,
     "metadata": {},
     "output_type": "execute_result"
    }
   ],
   "source": [
    "CURRENT_TIME_STAMP"
   ]
  },
  {
   "cell_type": "code",
   "execution_count": 45,
   "metadata": {},
   "outputs": [],
   "source": [
    "from housing.constant import *"
   ]
  },
  {
   "cell_type": "code",
   "execution_count": 46,
   "metadata": {},
   "outputs": [],
   "source": [
    "TRAINING_PIPELINE_CONFIG_KEY = \"training_pipeline_config\"\n",
    "TRAINING_PIPELINE_NAME_KEY = \"pipeline_name\"\n",
    "TRAINING_PIPELINE_ARTIFACT_DIR_KEY = \"artifact_dir\""
   ]
  },
  {
   "cell_type": "code",
   "execution_count": 47,
   "metadata": {},
   "outputs": [],
   "source": [
    "training_pipeline_config = config_info[TRAINING_PIPELINE_CONFIG_KEY]\n",
    "pipeline_name = training_pipeline_config[TRAINING_PIPELINE_NAME_KEY]\n",
    "artifact_dir = os.path.join(ROOT_DIR, \n",
    "                            training_pipeline_config[TRAINING_PIPELINE_NAME_KEY],\n",
    "                            training_pipeline_config[TRAINING_PIPELINE_ARTIFACT_DIR_KEY]\n",
    "                            )"
   ]
  },
  {
   "cell_type": "code",
   "execution_count": 48,
   "metadata": {},
   "outputs": [
    {
     "data": {
      "text/plain": [
       "\"d:\\\\University\\\\UB\\\\Summer'23\\\\Project\\\\0. Main\\\\End_to_end_ML_Project\\\\housing\\\\artifact\""
      ]
     },
     "execution_count": 48,
     "metadata": {},
     "output_type": "execute_result"
    }
   ],
   "source": [
    "artifact_dir"
   ]
  },
  {
   "cell_type": "code",
   "execution_count": 49,
   "metadata": {},
   "outputs": [
    {
     "data": {
      "text/plain": [
       "\"d:\\\\University\\\\UB\\\\Summer'23\\\\Project\\\\0. Main\\\\End_to_end_ML_Project\""
      ]
     },
     "execution_count": 49,
     "metadata": {},
     "output_type": "execute_result"
    }
   ],
   "source": [
    "ROOT_DIR"
   ]
  },
  {
   "cell_type": "code",
   "execution_count": 50,
   "metadata": {},
   "outputs": [
    {
     "data": {
      "text/plain": [
       "{'pipeline_name': 'housing', 'artifact_dir': 'artifact'}"
      ]
     },
     "execution_count": 50,
     "metadata": {},
     "output_type": "execute_result"
    }
   ],
   "source": [
    "training_pipeline_config"
   ]
  },
  {
   "cell_type": "code",
   "execution_count": 58,
   "metadata": {},
   "outputs": [
    {
     "name": "stdout",
     "output_type": "stream",
     "text": [
      "Unexpected exception formatting exception. Falling back to standard exception\n"
     ]
    },
    {
     "name": "stderr",
     "output_type": "stream",
     "text": [
      "Traceback (most recent call last):\n",
      "  File \"d:\\University\\UB\\Summer'23\\Project\\0. Main\\End_to_end_ML_Project\\housing\\config\\configuration.py\", line 225, in get_training_pipeline_config\n",
      "    logging.info(f\"Training pipleine config: {training_pipeline_config}\")\n",
      "                               ^^^^^^^^^^^^^^^^^^^^^^^^^^^^^^^^^^^^^^^^^^\n",
      "TypeError: TrainingPipelineConfig.__new__() got an unexpected keyword argument 'artifact_dir'\n",
      "\n",
      "The above exception was the direct cause of the following exception:\n",
      "\n",
      "Traceback (most recent call last):\n",
      "  File \"d:\\University\\UB\\Summer'23\\Project\\0. Main\\End_to_end_ML_Project\\housing\\config\\configuration.py\", line 19, in __init__\n",
      "    self.time_stamp = current_time_stamp\n",
      "                                    ^^^^\n",
      "  File \"d:\\University\\UB\\Summer'23\\Project\\0. Main\\End_to_end_ML_Project\\housing\\config\\configuration.py\", line 229, in get_training_pipeline_config\n",
      "housing.exception.HousingException: Error occured in script: [d:\\University\\UB\\Summer'23\\Project\\0. Main\\End_to_end_ML_Project\\housing\\config\\configuration.py] at line number: [229] error message: [TrainingPipelineConfig.__new__() got an unexpected keyword argument 'artifact_dir']\n",
      "\n",
      "The above exception was the direct cause of the following exception:\n",
      "\n",
      "Traceback (most recent call last):\n",
      "  File \"d:\\University\\UB\\Summer'23\\Project\\0. Main\\End_to_end_ML_Project\\ete_venv\\Lib\\site-packages\\IPython\\core\\interactiveshell.py\", line 3526, in run_code\n",
      "    exec(code_obj, self.user_global_ns, self.user_ns)\n",
      "  File \"C:\\Users\\srsha\\AppData\\Local\\Temp\\ipykernel_21760\\385619937.py\", line 4, in <module>\n",
      "    config = Configuartion()\n",
      "             ^^^^^^^^^^^^^^^\n",
      "  File \"d:\\University\\UB\\Summer'23\\Project\\0. Main\\End_to_end_ML_Project\\housing\\config\\configuration.py\", line 22, in __init__\n",
      "housing.exception.HousingException: Error occured in script: [d:\\University\\UB\\Summer'23\\Project\\0. Main\\End_to_end_ML_Project\\housing\\config\\configuration.py] at line number: [22] error message: [Error occured in script: [d:\\University\\UB\\Summer'23\\Project\\0. Main\\End_to_end_ML_Project\\housing\\config\\configuration.py] at line number: [229] error message: [TrainingPipelineConfig.__new__() got an unexpected keyword argument 'artifact_dir']]\n",
      "\n",
      "During handling of the above exception, another exception occurred:\n",
      "\n",
      "Traceback (most recent call last):\n",
      "  File \"d:\\University\\UB\\Summer'23\\Project\\0. Main\\End_to_end_ML_Project\\ete_venv\\Lib\\site-packages\\IPython\\core\\interactiveshell.py\", line 2120, in showtraceback\n",
      "    stb = self.InteractiveTB.structured_traceback(\n",
      "          ^^^^^^^^^^^^^^^^^^^^^^^^^^^^^^^^^^^^^^^^\n",
      "  File \"d:\\University\\UB\\Summer'23\\Project\\0. Main\\End_to_end_ML_Project\\ete_venv\\Lib\\site-packages\\IPython\\core\\ultratb.py\", line 1435, in structured_traceback\n",
      "    return FormattedTB.structured_traceback(\n",
      "           ^^^^^^^^^^^^^^^^^^^^^^^^^^^^^^^^^\n",
      "  File \"d:\\University\\UB\\Summer'23\\Project\\0. Main\\End_to_end_ML_Project\\ete_venv\\Lib\\site-packages\\IPython\\core\\ultratb.py\", line 1326, in structured_traceback\n",
      "    return VerboseTB.structured_traceback(\n",
      "           ^^^^^^^^^^^^^^^^^^^^^^^^^^^^^^^\n",
      "  File \"d:\\University\\UB\\Summer'23\\Project\\0. Main\\End_to_end_ML_Project\\ete_venv\\Lib\\site-packages\\IPython\\core\\ultratb.py\", line 1173, in structured_traceback\n",
      "    formatted_exception = self.format_exception_as_a_whole(etype, evalue, etb, number_of_lines_of_context,\n",
      "                          ^^^^^^^^^^^^^^^^^^^^^^^^^^^^^^^^^^^^^^^^^^^^^^^^^^^^^^^^^^^^^^^^^^^^^^^^^^^^^^^^\n",
      "  File \"d:\\University\\UB\\Summer'23\\Project\\0. Main\\End_to_end_ML_Project\\ete_venv\\Lib\\site-packages\\IPython\\core\\ultratb.py\", line 1088, in format_exception_as_a_whole\n",
      "    frames.append(self.format_record(record))\n",
      "                  ^^^^^^^^^^^^^^^^^^^^^^^^^^\n",
      "  File \"d:\\University\\UB\\Summer'23\\Project\\0. Main\\End_to_end_ML_Project\\ete_venv\\Lib\\site-packages\\IPython\\core\\ultratb.py\", line 970, in format_record\n",
      "    frame_info.lines, Colors, self.has_colors, lvals\n",
      "    ^^^^^^^^^^^^^^^^\n",
      "  File \"d:\\University\\UB\\Summer'23\\Project\\0. Main\\End_to_end_ML_Project\\ete_venv\\Lib\\site-packages\\IPython\\core\\ultratb.py\", line 792, in lines\n",
      "    return self._sd.lines\n",
      "           ^^^^^^^^^^^^^^\n",
      "  File \"d:\\University\\UB\\Summer'23\\Project\\0. Main\\End_to_end_ML_Project\\ete_venv\\Lib\\site-packages\\stack_data\\utils.py\", line 144, in cached_property_wrapper\n",
      "    value = obj.__dict__[self.func.__name__] = self.func(obj)\n",
      "                                               ^^^^^^^^^^^^^^\n",
      "  File \"d:\\University\\UB\\Summer'23\\Project\\0. Main\\End_to_end_ML_Project\\ete_venv\\Lib\\site-packages\\stack_data\\core.py\", line 734, in lines\n",
      "    pieces = self.included_pieces\n",
      "             ^^^^^^^^^^^^^^^^^^^^\n",
      "  File \"d:\\University\\UB\\Summer'23\\Project\\0. Main\\End_to_end_ML_Project\\ete_venv\\Lib\\site-packages\\stack_data\\utils.py\", line 144, in cached_property_wrapper\n",
      "    value = obj.__dict__[self.func.__name__] = self.func(obj)\n",
      "                                               ^^^^^^^^^^^^^^\n",
      "  File \"d:\\University\\UB\\Summer'23\\Project\\0. Main\\End_to_end_ML_Project\\ete_venv\\Lib\\site-packages\\stack_data\\core.py\", line 681, in included_pieces\n",
      "    pos = scope_pieces.index(self.executing_piece)\n",
      "                             ^^^^^^^^^^^^^^^^^^^^\n",
      "  File \"d:\\University\\UB\\Summer'23\\Project\\0. Main\\End_to_end_ML_Project\\ete_venv\\Lib\\site-packages\\stack_data\\utils.py\", line 144, in cached_property_wrapper\n",
      "    value = obj.__dict__[self.func.__name__] = self.func(obj)\n",
      "                                               ^^^^^^^^^^^^^^\n",
      "  File \"d:\\University\\UB\\Summer'23\\Project\\0. Main\\End_to_end_ML_Project\\ete_venv\\Lib\\site-packages\\stack_data\\core.py\", line 660, in executing_piece\n",
      "    return only(\n",
      "           ^^^^^\n",
      "  File \"d:\\University\\UB\\Summer'23\\Project\\0. Main\\End_to_end_ML_Project\\ete_venv\\Lib\\site-packages\\executing\\executing.py\", line 190, in only\n",
      "    raise NotOneValueFound('Expected one value, found 0')\n",
      "executing.executing.NotOneValueFound: Expected one value, found 0\n"
     ]
    }
   ],
   "source": [
    "from housing.config.configuration import Configuartion\n",
    "\n",
    "# Create an instance of the Configuration class\n",
    "config = Configuartion()\n",
    "\n",
    "# Call the method you want\n",
    "config.get_training_pipeline_config()\n",
    "\n",
    "# Use the configuration as needed\n"
   ]
  },
  {
   "cell_type": "code",
   "execution_count": 54,
   "metadata": {},
   "outputs": [],
   "source": [
    "from housing.exception import HousingException\n",
    "from housing.config.configuration import Configuartion\n"
   ]
  },
  {
   "cell_type": "code",
   "execution_count": null,
   "metadata": {},
   "outputs": [],
   "source": [
    "def read_yaml_file(file_path:str)->dict:\n",
    "    \"\"\"\n",
    "    Reads the yaml file and returns the dictionary\n",
    "    file_path: str\n",
    "    \"\"\"\n",
    "    try:\n",
    "        with open(file_path,\"rb\") as yaml_file:\n",
    "            return yaml.safe_load(yaml_file)\n",
    "    except Exception as e:\n",
    "        # print(\"Error reading the yaml file\")\n",
    "        raise HousingException(e,sys) from e"
   ]
  },
  {
   "cell_type": "code",
   "execution_count": null,
   "metadata": {},
   "outputs": [],
   "source": [
    "read_yaml_file(config_file_path)"
   ]
  },
  {
   "cell_type": "code",
   "execution_count": null,
   "metadata": {},
   "outputs": [],
   "source": [
    "import os\n",
    "from datetime import  datetime\n",
    "\n",
    "SET_ROOT_DIR = os.chdir(r\"d:\\University\\UB\\Summer'23\\Project\\0. Main\\End_to_end_ML_Project\")\n",
    "ROOT_DIR = os.getcwd()\n",
    "TARGET_FOLDER = os.path.join(ROOT_DIR, 'housing')\n",
    "CREATE_FOLDERS = ['exception', 'logger', 'pipeline', 'component', 'config', 'entity', 'utils', 'constant']\n",
    "CONFIG_DIR = \"config\"\n",
    "CONFIG_FILE_NAME = \"config.yaml\"\n",
    "CONFIG_FILE_PATH = os.path.join(ROOT_DIR, CONFIG_DIR, CONFIG_FILE_NAME)\n",
    "CURRENT_TIME_STAMP = datetime.now().strftime(\"%m-%d-%Y-%H-%M-%S\")\n",
    "\n",
    "# Training pipeline related constants\n",
    "TRAINING_PIPELINE_CONFIG_KEY = \"training_pipeline_config\"\n",
    "TRAINING_PIPELINE_NAME_KEY = \"pipeline_name\"\n",
    "TRAINING_PIPELINE_ARTIFACT_DIR_KEY = \"artifact_dir\""
   ]
  },
  {
   "cell_type": "code",
   "execution_count": null,
   "metadata": {},
   "outputs": [],
   "source": [
    "CONFIG_FILE_PATH"
   ]
  },
  {
   "cell_type": "code",
   "execution_count": null,
   "metadata": {},
   "outputs": [],
   "source": [
    "def __init__(self,\n",
    "                config_file_path: str = CONFIG_FILE_PATH,\n",
    "                current_time_stamp: str = CURRENT_TIME_STAMP\n",
    "                ) -> None:\n",
    "    try:\n",
    "        self.config_info = read_yaml_file(file_path=config_file_path)\n",
    "        self.training_pipeline_config = self.get_training_pipeline_config()\n",
    "        self.current_time_stamp = current_time_stamp\n",
    "    except Exception as e:\n",
    "        raise HousingException(e,sys) from e"
   ]
  },
  {
   "cell_type": "code",
   "execution_count": null,
   "metadata": {},
   "outputs": [],
   "source": [
    "config_file_path"
   ]
  },
  {
   "cell_type": "code",
   "execution_count": null,
   "metadata": {},
   "outputs": [],
   "source": [
    "config_info = read_yaml_file(file_path=config_file_path)"
   ]
  },
  {
   "cell_type": "code",
   "execution_count": null,
   "metadata": {},
   "outputs": [],
   "source": [
    "config_info"
   ]
  },
  {
   "cell_type": "code",
   "execution_count": null,
   "metadata": {},
   "outputs": [],
   "source": [
    "from housing.config.configuration import Configuration\n",
    "config = Configuration()\n",
    "print(config.get_training_pipeline_config())"
   ]
  },
  {
   "cell_type": "code",
   "execution_count": null,
   "metadata": {},
   "outputs": [],
   "source": [
    "config."
   ]
  },
  {
   "cell_type": "code",
   "execution_count": null,
   "metadata": {},
   "outputs": [],
   "source": []
  }
 ],
 "metadata": {
  "kernelspec": {
   "display_name": "Python 3 (ipykernel)",
   "language": "python",
   "name": "python3"
  },
  "language_info": {
   "codemirror_mode": {
    "name": "ipython",
    "version": 3
   },
   "file_extension": ".py",
   "mimetype": "text/x-python",
   "name": "python",
   "nbconvert_exporter": "python",
   "pygments_lexer": "ipython3",
   "version": "3.11.0"
  }
 },
 "nbformat": 4,
 "nbformat_minor": 2
}
